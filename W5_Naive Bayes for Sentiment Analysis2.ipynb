{
 "cells": [
  {
   "cell_type": "markdown",
   "metadata": {
    "colab_type": "text",
    "id": "d3QYzYbnnUJE"
   },
   "source": [
    "# Running or Importing .py Files with Google Colab\n",
    "\n",
    "Run these codes first in order to install the necessary libraries and perform authorization."
   ]
  },
  {
   "cell_type": "markdown",
   "metadata": {
    "colab_type": "text",
    "id": "pWRcx-ZnnhOQ"
   },
   "source": [
    "mount your Google Drive:"
   ]
  },
  {
   "cell_type": "markdown",
   "metadata": {
    "colab_type": "text",
    "id": "kTpw6FtZLqHX"
   },
   "source": [
    "# Naive Bayes for Sentiment Analysis\n",
    "\n",
    "---\n",
    "\n",
    "*   **Text classification** aims to assign documents (emails, tweets, posts, news, etc) to one or many categories.\n",
    "*   *Sentiment analysis*, one example of its applications, is to detemine the writer's point of view about a particular topic, product, service, etc\n",
    "\n",
    "---"
   ]
  },
  {
   "cell_type": "code",
   "execution_count": 1,
   "metadata": {
    "colab": {
     "autoexec": {
      "startup": false,
      "wait_interval": 0
     },
     "base_uri": "https://localhost:8080/",
     "height": 51
    },
    "colab_type": "code",
    "executionInfo": {
     "elapsed": 709,
     "status": "ok",
     "timestamp": 1529387674316,
     "user": {
      "displayName": "Eunji Jun",
      "photoUrl": "//lh3.googleusercontent.com/-NAApMaOBXJo/AAAAAAAAAAI/AAAAAAAAEhM/_uKtqLTEd78/s50-c-k-no/photo.jpg",
      "userId": "101707959171128419571"
     },
     "user_tz": -540
    },
    "id": "6rwBac1UiVYK",
    "outputId": "c79d829a-dabf-4f0b-e26e-090badf4af45"
   },
   "outputs": [
    {
     "name": "stdout",
     "output_type": "stream",
     "text": [
      "[nltk_data] Downloading package punkt to\n",
      "[nltk_data]     C:\\Users\\ryu07\\AppData\\Roaming\\nltk_data...\n",
      "[nltk_data]   Package punkt is already up-to-date!\n"
     ]
    }
   ],
   "source": [
    "import utils\n",
    "import importlib\n",
    "# importlib.reload(utils)\n",
    "from utils import *\n",
    "import nltk\n",
    "nltk.download('punkt')\n",
    "\n",
    "\n",
    "%matplotlib inline\n",
    "\n",
    "import numpy as np, pandas as pd\n",
    "import matplotlib.pyplot as plt\n",
    "import re, string, collections, bcolz, pickle, os\n",
    "from sklearn.model_selection import train_test_split\n",
    "from sklearn.feature_extraction.text import CountVectorizer, TfidfVectorizer\n",
    "from sklearn.linear_model import LogisticRegression\n",
    "from sklearn.decomposition import TruncatedSVD, PCA\n",
    "from sklearn.metrics import confusion_matrix\n",
    "\n",
    "from nltk.tokenize import word_tokenize\n",
    "from nltk.tokenize.regexp import RegexpTokenizer"
   ]
  },
  {
   "cell_type": "markdown",
   "metadata": {
    "colab_type": "text",
    "id": "XGT95S0TLvAu"
   },
   "source": [
    "## Data Preprocessing\n",
    "\n",
    "1.   Data scraping\n",
    "2.   Data cleaning\n",
    "3.   Exploratory data analysis"
   ]
  },
  {
   "cell_type": "markdown",
   "metadata": {
    "colab_type": "text",
    "id": "xfAH9VCWLyHS"
   },
   "source": [
    "## Sentiment analysis\n",
    "\n",
    "\n",
    "*   Objective: To train a **sentiment analysis classifier** given the games reviews in the dataset. The model must classify text reviews in positive or negative\n",
    "\n"
   ]
  },
  {
   "cell_type": "code",
   "execution_count": 2,
   "metadata": {
    "colab": {
     "autoexec": {
      "startup": false,
      "wait_interval": 0
     },
     "base_uri": "https://localhost:8080/",
     "height": 34
    },
    "colab_type": "code",
    "executionInfo": {
     "elapsed": 13343,
     "status": "ok",
     "timestamp": 1529376124330,
     "user": {
      "displayName": "Eunji Jun",
      "photoUrl": "//lh3.googleusercontent.com/-NAApMaOBXJo/AAAAAAAAAAI/AAAAAAAAEhM/_uKtqLTEd78/s50-c-k-no/photo.jpg",
      "userId": "101707959171128419571"
     },
     "user_tz": -540
    },
    "id": "Mm5n5bbGLz7l",
    "outputId": "673b42b3-0d70-42da-b0bc-63883161d9f7"
   },
   "outputs": [
    {
     "name": "stdout",
     "output_type": "stream",
     "text": [
      "There's 127699 games reviews.\n"
     ]
    }
   ],
   "source": [
    "df = pd.read_csv('reviews.csv', lineterminator='\\n')\n",
    "# df.shape\n",
    "print('There\\'s %d games reviews.' % df.shape[0])\n"
   ]
  },
  {
   "cell_type": "markdown",
   "metadata": {
    "colab_type": "text",
    "id": "RWeBviG--TJx"
   },
   "source": [
    "  Let's keep just text and score columns"
   ]
  },
  {
   "cell_type": "code",
   "execution_count": 3,
   "metadata": {
    "colab": {
     "autoexec": {
      "startup": false,
      "wait_interval": 0
     },
     "base_uri": "https://localhost:8080/",
     "height": 1969
    },
    "colab_type": "code",
    "executionInfo": {
     "elapsed": 667,
     "status": "ok",
     "timestamp": 1529376126848,
     "user": {
      "displayName": "Eunji Jun",
      "photoUrl": "//lh3.googleusercontent.com/-NAApMaOBXJo/AAAAAAAAAAI/AAAAAAAAEhM/_uKtqLTEd78/s50-c-k-no/photo.jpg",
      "userId": "101707959171128419571"
     },
     "user_tz": -540
    },
    "id": "dEriTjBS6zFU",
    "outputId": "0d9fa963-79cb-49bc-b0d5-1647022d45ea"
   },
   "outputs": [
    {
     "data": {
      "text/html": [
       "<div>\n",
       "<style scoped>\n",
       "    .dataframe tbody tr th:only-of-type {\n",
       "        vertical-align: middle;\n",
       "    }\n",
       "\n",
       "    .dataframe tbody tr th {\n",
       "        vertical-align: top;\n",
       "    }\n",
       "\n",
       "    .dataframe thead th {\n",
       "        text-align: right;\n",
       "    }\n",
       "</style>\n",
       "<table border=\"1\" class=\"dataframe\">\n",
       "  <thead>\n",
       "    <tr style=\"text-align: right;\">\n",
       "      <th></th>\n",
       "      <th>text</th>\n",
       "      <th>score</th>\n",
       "    </tr>\n",
       "  </thead>\n",
       "  <tbody>\n",
       "    <tr>\n",
       "      <th>0</th>\n",
       "      <td>it makes a terrible first impression, but  ult...</td>\n",
       "      <td>74.0</td>\n",
       "    </tr>\n",
       "    <tr>\n",
       "      <th>1</th>\n",
       "      <td>brings some fresh and inventive ideas to the ...</td>\n",
       "      <td>65.0</td>\n",
       "    </tr>\n",
       "    <tr>\n",
       "      <th>2</th>\n",
       "      <td>a fun main mode of play that can get quite add...</td>\n",
       "      <td>60.0</td>\n",
       "    </tr>\n",
       "    <tr>\n",
       "      <th>3</th>\n",
       "      <td>simply put,  feels like half of a game.</td>\n",
       "      <td>60.0</td>\n",
       "    </tr>\n",
       "    <tr>\n",
       "      <th>4</th>\n",
       "      <td>combined with the price and lack of cross-buy,...</td>\n",
       "      <td>60.0</td>\n",
       "    </tr>\n",
       "    <tr>\n",
       "      <th>5</th>\n",
       "      <td>feels like an unfinished product, and it’s a ...</td>\n",
       "      <td>60.0</td>\n",
       "    </tr>\n",
       "    <tr>\n",
       "      <th>6</th>\n",
       "      <td>had a lot of love poured into its development...</td>\n",
       "      <td>90.0</td>\n",
       "    </tr>\n",
       "    <tr>\n",
       "      <th>7</th>\n",
       "      <td>this game has sparked an interest in anime tha...</td>\n",
       "      <td>85.0</td>\n",
       "    </tr>\n",
       "    <tr>\n",
       "      <th>8</th>\n",
       "      <td>last recode is a very well done compilation, w...</td>\n",
       "      <td>80.0</td>\n",
       "    </tr>\n",
       "    <tr>\n",
       "      <th>9</th>\n",
       "      <td>is an incredible package of remastered games....</td>\n",
       "      <td>80.0</td>\n",
       "    </tr>\n",
       "    <tr>\n",
       "      <th>10</th>\n",
       "      <td>is a great attempt to modernize an older fran...</td>\n",
       "      <td>80.0</td>\n",
       "    </tr>\n",
       "    <tr>\n",
       "      <th>11</th>\n",
       "      <td>you're getting a lot of game for your buck, an...</td>\n",
       "      <td>79.0</td>\n",
       "    </tr>\n",
       "    <tr>\n",
       "      <th>12</th>\n",
       "      <td>this title which includes the three original g...</td>\n",
       "      <td>79.0</td>\n",
       "    </tr>\n",
       "    <tr>\n",
       "      <th>13</th>\n",
       "      <td>the only painful notes of production remain th...</td>\n",
       "      <td>78.0</td>\n",
       "    </tr>\n",
       "    <tr>\n",
       "      <th>14</th>\n",
       "      <td>last recode has its highs and lows, but overal...</td>\n",
       "      <td>76.0</td>\n",
       "    </tr>\n",
       "    <tr>\n",
       "      <th>15</th>\n",
       "      <td>these remastered games include a new chapter t...</td>\n",
       "      <td>75.0</td>\n",
       "    </tr>\n",
       "    <tr>\n",
       "      <th>16</th>\n",
       "      <td>a very enjoyable jrpg experience inspired by t...</td>\n",
       "      <td>75.0</td>\n",
       "    </tr>\n",
       "    <tr>\n",
       "      <th>17</th>\n",
       "      <td>gives you good bang for your buck, with an or...</td>\n",
       "      <td>75.0</td>\n",
       "    </tr>\n",
       "    <tr>\n",
       "      <th>18</th>\n",
       "      <td>is a jrpg history exhibit, and it’s well wort...</td>\n",
       "      <td>75.0</td>\n",
       "    </tr>\n",
       "    <tr>\n",
       "      <th>19</th>\n",
       "      <td>is the best way to enter in to the .hack world.</td>\n",
       "      <td>75.0</td>\n",
       "    </tr>\n",
       "    <tr>\n",
       "      <th>20</th>\n",
       "      <td>shines in its engaging story, eclectic cast o...</td>\n",
       "      <td>70.0</td>\n",
       "    </tr>\n",
       "    <tr>\n",
       "      <th>21</th>\n",
       "      <td>featuring improved graphics and more polished ...</td>\n",
       "      <td>70.0</td>\n",
       "    </tr>\n",
       "    <tr>\n",
       "      <th>22</th>\n",
       "      <td>is a generous package with the three original...</td>\n",
       "      <td>70.0</td>\n",
       "    </tr>\n",
       "    <tr>\n",
       "      <th>23</th>\n",
       "      <td>although last recode feels slightly dated, it ...</td>\n",
       "      <td>70.0</td>\n",
       "    </tr>\n",
       "    <tr>\n",
       "      <th>24</th>\n",
       "      <td>the  remaster is a more than worthy way to exp...</td>\n",
       "      <td>70.0</td>\n",
       "    </tr>\n",
       "    <tr>\n",
       "      <th>25</th>\n",
       "      <td>while ’s story still find ways to convey fresh...</td>\n",
       "      <td>70.0</td>\n",
       "    </tr>\n",
       "    <tr>\n",
       "      <th>26</th>\n",
       "      <td>.hack is back with the remaster of the g.u. se...</td>\n",
       "      <td>60.0</td>\n",
       "    </tr>\n",
       "    <tr>\n",
       "      <th>27</th>\n",
       "      <td>a furiously engaging speedrunning platformer, ...</td>\n",
       "      <td>85.0</td>\n",
       "    </tr>\n",
       "    <tr>\n",
       "      <th>28</th>\n",
       "      <td>is an addictive high speed platform game spor...</td>\n",
       "      <td>84.0</td>\n",
       "    </tr>\n",
       "    <tr>\n",
       "      <th>29</th>\n",
       "      <td>gamers who hold speedrunning and time trial ch...</td>\n",
       "      <td>80.0</td>\n",
       "    </tr>\n",
       "    <tr>\n",
       "      <th>...</th>\n",
       "      <td>...</td>\n",
       "      <td>...</td>\n",
       "    </tr>\n",
       "    <tr>\n",
       "      <th>127669</th>\n",
       "      <td>juego sin terminar con un apartado gráfico pen...</td>\n",
       "      <td>10.0</td>\n",
       "    </tr>\n",
       "    <tr>\n",
       "      <th>127670</th>\n",
       "      <td>no spoilers so you can go and read\\r this is j...</td>\n",
       "      <td>100.0</td>\n",
       "    </tr>\n",
       "    <tr>\n",
       "      <th>127671</th>\n",
       "      <td>i'm giving this a 10, because to me, it is exa...</td>\n",
       "      <td>100.0</td>\n",
       "    </tr>\n",
       "    <tr>\n",
       "      <th>127672</th>\n",
       "      <td>my favorite game of 2017.   (yes, i liked it m...</td>\n",
       "      <td>100.0</td>\n",
       "    </tr>\n",
       "    <tr>\n",
       "      <th>127673</th>\n",
       "      <td>this game at first raises a lot of skepticism,...</td>\n",
       "      <td>100.0</td>\n",
       "    </tr>\n",
       "    <tr>\n",
       "      <th>127674</th>\n",
       "      <td>my favorite switch game. engrossing story with...</td>\n",
       "      <td>100.0</td>\n",
       "    </tr>\n",
       "    <tr>\n",
       "      <th>127675</th>\n",
       "      <td>give it a chance!  you won't regret it!   i am...</td>\n",
       "      <td>90.0</td>\n",
       "    </tr>\n",
       "    <tr>\n",
       "      <th>127676</th>\n",
       "      <td>good game that brings an art style and gamepla...</td>\n",
       "      <td>100.0</td>\n",
       "    </tr>\n",
       "    <tr>\n",
       "      <th>127677</th>\n",
       "      <td>how can i say ? it is not a game of the year l...</td>\n",
       "      <td>70.0</td>\n",
       "    </tr>\n",
       "    <tr>\n",
       "      <th>127678</th>\n",
       "      <td>just finished the game last night. have to say...</td>\n",
       "      <td>90.0</td>\n",
       "    </tr>\n",
       "    <tr>\n",
       "      <th>127679</th>\n",
       "      <td>a great jrpg offering on the switch. reminded ...</td>\n",
       "      <td>90.0</td>\n",
       "    </tr>\n",
       "    <tr>\n",
       "      <th>127680</th>\n",
       "      <td>very good game better than x you should play t...</td>\n",
       "      <td>100.0</td>\n",
       "    </tr>\n",
       "    <tr>\n",
       "      <th>127681</th>\n",
       "      <td>√ great story for who has romance at heart;\\r√...</td>\n",
       "      <td>90.0</td>\n",
       "    </tr>\n",
       "    <tr>\n",
       "      <th>127682</th>\n",
       "      <td>is one of the must buys for nintendo switch a...</td>\n",
       "      <td>90.0</td>\n",
       "    </tr>\n",
       "    <tr>\n",
       "      <th>127683</th>\n",
       "      <td>i didn't planned to write a review until i hav...</td>\n",
       "      <td>90.0</td>\n",
       "    </tr>\n",
       "    <tr>\n",
       "      <th>127684</th>\n",
       "      <td>first thing's first, if you're not familiar or...</td>\n",
       "      <td>100.0</td>\n",
       "    </tr>\n",
       "    <tr>\n",
       "      <th>127685</th>\n",
       "      <td>i liked it as much as the previous game and it...</td>\n",
       "      <td>90.0</td>\n",
       "    </tr>\n",
       "    <tr>\n",
       "      <th>127686</th>\n",
       "      <td>wow, just wow.\\rthis was a game that i not exp...</td>\n",
       "      <td>100.0</td>\n",
       "    </tr>\n",
       "    <tr>\n",
       "      <th>127687</th>\n",
       "      <td>in a year of outstanding first party exclusive...</td>\n",
       "      <td>100.0</td>\n",
       "    </tr>\n",
       "    <tr>\n",
       "      <th>127688</th>\n",
       "      <td>get ready for some arcade fire!\\r  is a vertic...</td>\n",
       "      <td>70.0</td>\n",
       "    </tr>\n",
       "    <tr>\n",
       "      <th>127689</th>\n",
       "      <td>is a rogue-like rpg made in the style and loo...</td>\n",
       "      <td>80.0</td>\n",
       "    </tr>\n",
       "    <tr>\n",
       "      <th>127690</th>\n",
       "      <td>my first time seeing this title was during a n...</td>\n",
       "      <td>70.0</td>\n",
       "    </tr>\n",
       "    <tr>\n",
       "      <th>127691</th>\n",
       "      <td>i downloaded this game based on the visuals al...</td>\n",
       "      <td>40.0</td>\n",
       "    </tr>\n",
       "    <tr>\n",
       "      <th>127692</th>\n",
       "      <td>yooka laylee is the banjo threeie i have alway...</td>\n",
       "      <td>90.0</td>\n",
       "    </tr>\n",
       "    <tr>\n",
       "      <th>127693</th>\n",
       "      <td>yooka laylee is an enjoyable experience that f...</td>\n",
       "      <td>60.0</td>\n",
       "    </tr>\n",
       "    <tr>\n",
       "      <th>127694</th>\n",
       "      <td>amazing game. i am giving a 8/10 and here is a...</td>\n",
       "      <td>80.0</td>\n",
       "    </tr>\n",
       "    <tr>\n",
       "      <th>127695</th>\n",
       "      <td>an attempt by a smaller studio to cover the gr...</td>\n",
       "      <td>50.0</td>\n",
       "    </tr>\n",
       "    <tr>\n",
       "      <th>127696</th>\n",
       "      <td>yooka layley is the game i have been waiting f...</td>\n",
       "      <td>70.0</td>\n",
       "    </tr>\n",
       "    <tr>\n",
       "      <th>127697</th>\n",
       "      <td>maybe  for switch is the \"defenitive edition\"....</td>\n",
       "      <td>50.0</td>\n",
       "    </tr>\n",
       "    <tr>\n",
       "      <th>127698</th>\n",
       "      <td>im guessing that the developers of this game r...</td>\n",
       "      <td>50.0</td>\n",
       "    </tr>\n",
       "  </tbody>\n",
       "</table>\n",
       "<p>127699 rows × 2 columns</p>\n",
       "</div>"
      ],
      "text/plain": [
       "                                                     text  score\n",
       "0       it makes a terrible first impression, but  ult...   74.0\n",
       "1        brings some fresh and inventive ideas to the ...   65.0\n",
       "2       a fun main mode of play that can get quite add...   60.0\n",
       "3                 simply put,  feels like half of a game.   60.0\n",
       "4       combined with the price and lack of cross-buy,...   60.0\n",
       "5        feels like an unfinished product, and it’s a ...   60.0\n",
       "6        had a lot of love poured into its development...   90.0\n",
       "7       this game has sparked an interest in anime tha...   85.0\n",
       "8       last recode is a very well done compilation, w...   80.0\n",
       "9        is an incredible package of remastered games....   80.0\n",
       "10       is a great attempt to modernize an older fran...   80.0\n",
       "11      you're getting a lot of game for your buck, an...   79.0\n",
       "12      this title which includes the three original g...   79.0\n",
       "13      the only painful notes of production remain th...   78.0\n",
       "14      last recode has its highs and lows, but overal...   76.0\n",
       "15      these remastered games include a new chapter t...   75.0\n",
       "16      a very enjoyable jrpg experience inspired by t...   75.0\n",
       "17       gives you good bang for your buck, with an or...   75.0\n",
       "18       is a jrpg history exhibit, and it’s well wort...   75.0\n",
       "19        is the best way to enter in to the .hack world.   75.0\n",
       "20       shines in its engaging story, eclectic cast o...   70.0\n",
       "21      featuring improved graphics and more polished ...   70.0\n",
       "22       is a generous package with the three original...   70.0\n",
       "23      although last recode feels slightly dated, it ...   70.0\n",
       "24      the  remaster is a more than worthy way to exp...   70.0\n",
       "25      while ’s story still find ways to convey fresh...   70.0\n",
       "26      .hack is back with the remaster of the g.u. se...   60.0\n",
       "27      a furiously engaging speedrunning platformer, ...   85.0\n",
       "28       is an addictive high speed platform game spor...   84.0\n",
       "29      gamers who hold speedrunning and time trial ch...   80.0\n",
       "...                                                   ...    ...\n",
       "127669  juego sin terminar con un apartado gráfico pen...   10.0\n",
       "127670  no spoilers so you can go and read\\r this is j...  100.0\n",
       "127671  i'm giving this a 10, because to me, it is exa...  100.0\n",
       "127672  my favorite game of 2017.   (yes, i liked it m...  100.0\n",
       "127673  this game at first raises a lot of skepticism,...  100.0\n",
       "127674  my favorite switch game. engrossing story with...  100.0\n",
       "127675  give it a chance!  you won't regret it!   i am...   90.0\n",
       "127676  good game that brings an art style and gamepla...  100.0\n",
       "127677  how can i say ? it is not a game of the year l...   70.0\n",
       "127678  just finished the game last night. have to say...   90.0\n",
       "127679  a great jrpg offering on the switch. reminded ...   90.0\n",
       "127680  very good game better than x you should play t...  100.0\n",
       "127681  √ great story for who has romance at heart;\\r√...   90.0\n",
       "127682   is one of the must buys for nintendo switch a...   90.0\n",
       "127683  i didn't planned to write a review until i hav...   90.0\n",
       "127684  first thing's first, if you're not familiar or...  100.0\n",
       "127685  i liked it as much as the previous game and it...   90.0\n",
       "127686  wow, just wow.\\rthis was a game that i not exp...  100.0\n",
       "127687  in a year of outstanding first party exclusive...  100.0\n",
       "127688  get ready for some arcade fire!\\r  is a vertic...   70.0\n",
       "127689   is a rogue-like rpg made in the style and loo...   80.0\n",
       "127690  my first time seeing this title was during a n...   70.0\n",
       "127691  i downloaded this game based on the visuals al...   40.0\n",
       "127692  yooka laylee is the banjo threeie i have alway...   90.0\n",
       "127693  yooka laylee is an enjoyable experience that f...   60.0\n",
       "127694  amazing game. i am giving a 8/10 and here is a...   80.0\n",
       "127695  an attempt by a smaller studio to cover the gr...   50.0\n",
       "127696  yooka layley is the game i have been waiting f...   70.0\n",
       "127697  maybe  for switch is the \"defenitive edition\"....   50.0\n",
       "127698  im guessing that the developers of this game r...   50.0\n",
       "\n",
       "[127699 rows x 2 columns]"
      ]
     },
     "execution_count": 3,
     "metadata": {},
     "output_type": "execute_result"
    }
   ],
   "source": [
    "df = df[['text', 'score']]\n",
    "df"
   ]
  },
  {
   "cell_type": "markdown",
   "metadata": {
    "colab_type": "text",
    "id": "1Fgr9h09-k40"
   },
   "source": [
    "\n",
    "\n",
    "---\n",
    "\n",
    "\n",
    "The data have 127699 reviews but we will keep just the most polarized ones. The filter is the next:\n",
    "\n",
    "Positive: score > 85\n",
    "\n",
    "Negative: score < 50\n",
    "\n",
    "\n",
    "---\n",
    "\n"
   ]
  },
  {
   "cell_type": "code",
   "execution_count": 4,
   "metadata": {
    "colab": {
     "autoexec": {
      "startup": false,
      "wait_interval": 0
     },
     "base_uri": "https://localhost:8080/",
     "height": 51
    },
    "colab_type": "code",
    "executionInfo": {
     "elapsed": 620,
     "status": "ok",
     "timestamp": 1529376132851,
     "user": {
      "displayName": "Eunji Jun",
      "photoUrl": "//lh3.googleusercontent.com/-NAApMaOBXJo/AAAAAAAAAAI/AAAAAAAAEhM/_uKtqLTEd78/s50-c-k-no/photo.jpg",
      "userId": "101707959171128419571"
     },
     "user_tz": -540
    },
    "id": "8ZpkZVE661f9",
    "outputId": "36042c50-57f4-429c-f22e-e2160d2eab06"
   },
   "outputs": [
    {
     "name": "stdout",
     "output_type": "stream",
     "text": [
      "Review with score greater than 85: 43518\n",
      "Review with score less than 50: 20428\n"
     ]
    }
   ],
   "source": [
    "print('Review with score greater than 85: %d' % len(df.loc[df[\"score\"] > 85]))\n",
    "print('Review with score less than 50: %d' % len(df.loc[df[\"score\"] < 50]))"
   ]
  },
  {
   "cell_type": "code",
   "execution_count": 5,
   "metadata": {
    "colab": {
     "autoexec": {
      "startup": false,
      "wait_interval": 0
     }
    },
    "colab_type": "code",
    "id": "tgIHD6k4_tCX"
   },
   "outputs": [],
   "source": [
    "pos = df.loc[df['score'] > 85, 'text'].copy().reset_index(drop=True)\n",
    "neg = df.loc[df['score'] < 50, 'text'].copy().reset_index(drop=True)"
   ]
  },
  {
   "cell_type": "markdown",
   "metadata": {
    "colab_type": "text",
    "id": "4WrAPnUFBLLI"
   },
   "source": [
    "Let's print some positive reviews examples"
   ]
  },
  {
   "cell_type": "code",
   "execution_count": 6,
   "metadata": {
    "colab": {
     "autoexec": {
      "startup": false,
      "wait_interval": 0
     },
     "base_uri": "https://localhost:8080/",
     "height": 241
    },
    "colab_type": "code",
    "executionInfo": {
     "elapsed": 1097,
     "status": "ok",
     "timestamp": 1529376140274,
     "user": {
      "displayName": "Eunji Jun",
      "photoUrl": "//lh3.googleusercontent.com/-NAApMaOBXJo/AAAAAAAAAAI/AAAAAAAAEhM/_uKtqLTEd78/s50-c-k-no/photo.jpg",
      "userId": "101707959171128419571"
     },
     "user_tz": -540
    },
    "id": "0Yg5iroAAKuT",
    "outputId": "82eb57c4-df3d-46b0-fcb1-d83d35f3d22a"
   },
   "outputs": [
    {
     "name": "stdout",
     "output_type": "stream",
     "text": [
      "amazing game will become a classic. you really connect with the character which most games are lacking no wadays. the graphics are amazing. so is the voice acting.\n",
      "\n",
      "\n",
      "i loved the first game cause of its story and well design, the way players could make their own custom routes around levels. the sequel refines all of this and makes it better also with more content such as 2 playable characters flesh and steel and overall story.\n",
      "\n",
      "\n",
      "nevertheless,  is a bringing together of what is probably the best set of games of the last generation.\n",
      "\n",
      "\n",
      "it's easily one of the best games i have ever played. the story was good, the graphics were amazing, it was violent and the acting was good. the fact that the choices you make really do matter makes this game even better. i highly recommend it.\n",
      "\n",
      "\n"
     ]
    }
   ],
   "source": [
    "for i in range(4):\n",
    "    print(''.join(pos[np.random.randint(0, len(pos))]))\n",
    "    print('\\n')"
   ]
  },
  {
   "cell_type": "markdown",
   "metadata": {
    "colab_type": "text",
    "id": "sT6g6eXACOkG"
   },
   "source": [
    "Let's print some negative reviews examples"
   ]
  },
  {
   "cell_type": "code",
   "execution_count": 7,
   "metadata": {
    "colab": {
     "autoexec": {
      "startup": false,
      "wait_interval": 0
     },
     "base_uri": "https://localhost:8080/",
     "height": 241
    },
    "colab_type": "code",
    "executionInfo": {
     "elapsed": 716,
     "status": "ok",
     "timestamp": 1529376145183,
     "user": {
      "displayName": "Eunji Jun",
      "photoUrl": "//lh3.googleusercontent.com/-NAApMaOBXJo/AAAAAAAAAAI/AAAAAAAAEhM/_uKtqLTEd78/s50-c-k-no/photo.jpg",
      "userId": "101707959171128419571"
     },
     "user_tz": -540
    },
    "id": "bI1Rl4IOBa74",
    "outputId": "5999b146-646c-4d2d-fd45-4f04e6022f99"
   },
   "outputs": [
    {
     "name": "stdout",
     "output_type": "stream",
     "text": [
      "the game also fails as a high-profile ps4 launch title in terms of what it’s putting onscreen. the particle effects serve their purpose, but everything from the vapid story sequences to the hackneyed goblin foes feels blandly feeble. a chapter setting entitled the barren wastes? yes, you think, no need to ram it home.\n",
      "\n",
      "\n",
      "game sucks    a lot\n",
      "\n",
      "\n",
      "in the beginning i rated this game with a 9,5. however when you hit the level cap (20) its start to annoy me. if you want to level higher then 20, you have to get better gear.\r",
      " the random loot system in this game is pure crap. after playing so many levels over and over again, i get the most disappointing loot(blue cape's). also i collected 5 legendary engrams in total but the outcome were four blue and one green.\n",
      "\n",
      "\n",
      "this is the fourth time the same game is being released with different skins and textures. every year theres another far cry, which is the same story, the same characters, the same engine, the same same.\n",
      "\n",
      "\n"
     ]
    }
   ],
   "source": [
    "for i in range(4):\n",
    "    print(''.join(neg[np.random.randint(0, len(neg))]))\n",
    "    print('\\n')"
   ]
  },
  {
   "cell_type": "markdown",
   "metadata": {
    "colab_type": "text",
    "id": "lLauB5BlCYPt"
   },
   "source": [
    "We must add the labels: 1 for positive reviews, 0 for negative reviews"
   ]
  },
  {
   "cell_type": "code",
   "execution_count": 8,
   "metadata": {
    "colab": {
     "autoexec": {
      "startup": false,
      "wait_interval": 0
     }
    },
    "colab_type": "code",
    "id": "9b_m1owJBbRj"
   },
   "outputs": [],
   "source": [
    "pos = pd.concat([pd.DataFrame(pos), pd.DataFrame(np.ones(pos.shape), columns=['class'])], 1)\n",
    "neg = pd.concat([pd.DataFrame(neg), pd.DataFrame(np.zeros(neg.shape), columns=['class'])], 1)"
   ]
  },
  {
   "cell_type": "markdown",
   "metadata": {
    "colab_type": "text",
    "id": "DSWyj3LCE4B1"
   },
   "source": [
    "Mean, standard deviation and max length of negative reviews"
   ]
  },
  {
   "cell_type": "code",
   "execution_count": 9,
   "metadata": {
    "colab": {
     "autoexec": {
      "startup": false,
      "wait_interval": 0
     },
     "base_uri": "https://localhost:8080/",
     "height": 34
    },
    "colab_type": "code",
    "executionInfo": {
     "elapsed": 776,
     "status": "ok",
     "timestamp": 1529376151406,
     "user": {
      "displayName": "Eunji Jun",
      "photoUrl": "//lh3.googleusercontent.com/-NAApMaOBXJo/AAAAAAAAAAI/AAAAAAAAEhM/_uKtqLTEd78/s50-c-k-no/photo.jpg",
      "userId": "101707959171128419571"
     },
     "user_tz": -540
    },
    "id": "hahkggdfBkmq",
    "outputId": "210d70c6-9b22-4a5f-a3e6-8c3b4c8045a1"
   },
   "outputs": [
    {
     "data": {
      "text/plain": [
       "(681.7165654983356, 823.7599066187877, 14736)"
      ]
     },
     "execution_count": 9,
     "metadata": {},
     "output_type": "execute_result"
    }
   ],
   "source": [
    "lens = neg['text'].str.len()\n",
    "lens.mean(), lens.std(), lens.max()"
   ]
  },
  {
   "cell_type": "code",
   "execution_count": 10,
   "metadata": {
    "colab": {
     "autoexec": {
      "startup": false,
      "wait_interval": 0
     },
     "base_uri": "https://localhost:8080/",
     "height": 411
    },
    "colab_type": "code",
    "executionInfo": {
     "elapsed": 2042,
     "status": "ok",
     "timestamp": 1529376155074,
     "user": {
      "displayName": "Eunji Jun",
      "photoUrl": "//lh3.googleusercontent.com/-NAApMaOBXJo/AAAAAAAAAAI/AAAAAAAAEhM/_uKtqLTEd78/s50-c-k-no/photo.jpg",
      "userId": "101707959171128419571"
     },
     "user_tz": -540
    },
    "id": "utxzZQ-dDBiA",
    "outputId": "f2fc1a4e-82e4-4642-ca9f-d9b630e6cf44"
   },
   "outputs": [
    {
     "data": {
      "text/plain": [
       "<matplotlib.axes._subplots.AxesSubplot at 0x26d266346d8>"
      ]
     },
     "execution_count": 10,
     "metadata": {},
     "output_type": "execute_result"
    },
    {
     "data": {
      "image/png": "[encoded data removed]",
      "text/plain": [
       "<Figure size 864x432 with 1 Axes>"
      ]
     },
     "metadata": {},
     "output_type": "display_data"
    }
   ],
   "source": [
    "lens.hist(figsize=(12,6), bins=25)"
   ]
  },
  {
   "cell_type": "markdown",
   "metadata": {
    "colab_type": "text",
    "id": "UtalwfC8P5q5"
   },
   "source": [
    "Reviews with more than 5000 characters are dropped"
   ]
  },
  {
   "cell_type": "code",
   "execution_count": 11,
   "metadata": {
    "colab": {
     "autoexec": {
      "startup": false,
      "wait_interval": 0
     }
    },
    "colab_type": "code",
    "id": "onptruOTPYqO"
   },
   "outputs": [],
   "source": [
    "long_reviews = neg.loc[neg['text'].str.len() > 5000].index\n",
    "neg.drop(long_reviews, inplace=True)"
   ]
  },
  {
   "cell_type": "markdown",
   "metadata": {
    "colab_type": "text",
    "id": "ycoGb597RcPl"
   },
   "source": [
    "Mean, standard deviation and max length of positive reviews"
   ]
  },
  {
   "cell_type": "code",
   "execution_count": 12,
   "metadata": {
    "colab": {
     "autoexec": {
      "startup": false,
      "wait_interval": 0
     },
     "base_uri": "https://localhost:8080/",
     "height": 34
    },
    "colab_type": "code",
    "executionInfo": {
     "elapsed": 899,
     "status": "ok",
     "timestamp": 1529376160523,
     "user": {
      "displayName": "Eunji Jun",
      "photoUrl": "//lh3.googleusercontent.com/-NAApMaOBXJo/AAAAAAAAAAI/AAAAAAAAEhM/_uKtqLTEd78/s50-c-k-no/photo.jpg",
      "userId": "101707959171128419571"
     },
     "user_tz": -540
    },
    "id": "cMLOmkfYQlYz",
    "outputId": "db1f90dc-b871-4853-de61-51ff318322e4"
   },
   "outputs": [
    {
     "data": {
      "text/plain": [
       "(586.1869801001884, 738.040146996147, 25554)"
      ]
     },
     "execution_count": 12,
     "metadata": {},
     "output_type": "execute_result"
    }
   ],
   "source": [
    "lens = pos['text'].str.len()\n",
    "lens.mean(), lens.std(), lens.max()"
   ]
  },
  {
   "cell_type": "code",
   "execution_count": 13,
   "metadata": {
    "colab": {
     "autoexec": {
      "startup": false,
      "wait_interval": 0
     },
     "base_uri": "https://localhost:8080/",
     "height": 411
    },
    "colab_type": "code",
    "executionInfo": {
     "elapsed": 886,
     "status": "ok",
     "timestamp": 1529376162412,
     "user": {
      "displayName": "Eunji Jun",
      "photoUrl": "//lh3.googleusercontent.com/-NAApMaOBXJo/AAAAAAAAAAI/AAAAAAAAEhM/_uKtqLTEd78/s50-c-k-no/photo.jpg",
      "userId": "101707959171128419571"
     },
     "user_tz": -540
    },
    "id": "3txYfpNTSDmX",
    "outputId": "6bf71b0b-0187-43b7-f099-11bdb0d44a78"
   },
   "outputs": [
    {
     "data": {
      "text/plain": [
       "<matplotlib.axes._subplots.AxesSubplot at 0x26d27187630>"
      ]
     },
     "execution_count": 13,
     "metadata": {},
     "output_type": "execute_result"
    },
    {
     "data": {
      "image/png": "[encoded data removed]",
      "text/plain": [
       "<Figure size 864x432 with 1 Axes>"
      ]
     },
     "metadata": {},
     "output_type": "display_data"
    }
   ],
   "source": [
    "lens.hist(figsize=(12,6), bins=25)"
   ]
  },
  {
   "cell_type": "code",
   "execution_count": 14,
   "metadata": {
    "colab": {
     "autoexec": {
      "startup": false,
      "wait_interval": 0
     }
    },
    "colab_type": "code",
    "id": "3YMq2oJtSJTg"
   },
   "outputs": [],
   "source": [
    "long_reviews = pos.loc[pos['text'].str.len() > 5000].index\n",
    "pos.drop(long_reviews, inplace=True)"
   ]
  },
  {
   "cell_type": "code",
   "execution_count": 15,
   "metadata": {
    "colab": {
     "autoexec": {
      "startup": false,
      "wait_interval": 0
     },
     "base_uri": "https://localhost:8080/",
     "height": 34
    },
    "colab_type": "code",
    "executionInfo": {
     "elapsed": 685,
     "status": "ok",
     "timestamp": 1529376165663,
     "user": {
      "displayName": "Eunji Jun",
      "photoUrl": "//lh3.googleusercontent.com/-NAApMaOBXJo/AAAAAAAAAAI/AAAAAAAAEhM/_uKtqLTEd78/s50-c-k-no/photo.jpg",
      "userId": "101707959171128419571"
     },
     "user_tz": -540
    },
    "id": "TTKByXL6lVXG",
    "outputId": "f88abd3d-8ce9-481a-b407-c1b91c70eb09"
   },
   "outputs": [
    {
     "data": {
      "text/plain": [
       "20419"
      ]
     },
     "execution_count": 15,
     "metadata": {},
     "output_type": "execute_result"
    }
   ],
   "source": [
    "len(neg)"
   ]
  },
  {
   "cell_type": "markdown",
   "metadata": {
    "colab_type": "text",
    "id": "O8GUHuQxlC5o"
   },
   "source": [
    "Is desirable to have a balanced dataset (similar quantity of positive and negative instances).\n",
    "\n",
    "So we will pick a random subset of the positive instances."
   ]
  },
  {
   "cell_type": "code",
   "execution_count": 16,
   "metadata": {
    "colab": {
     "autoexec": {
      "startup": false,
      "wait_interval": 0
     }
    },
    "colab_type": "code",
    "id": "d813sfAQk6ZF"
   },
   "outputs": [],
   "source": [
    "np.random.seed(42)\n",
    "rand = np.random.permutation(pos.shape[0])\n",
    "pos = pos.iloc[rand[:neg.shape[0]]].reset_index(drop=True)"
   ]
  },
  {
   "cell_type": "code",
   "execution_count": 17,
   "metadata": {
    "colab": {
     "autoexec": {
      "startup": false,
      "wait_interval": 0
     },
     "base_uri": "https://localhost:8080/",
     "height": 34
    },
    "colab_type": "code",
    "executionInfo": {
     "elapsed": 755,
     "status": "ok",
     "timestamp": 1529376170081,
     "user": {
      "displayName": "Eunji Jun",
      "photoUrl": "//lh3.googleusercontent.com/-NAApMaOBXJo/AAAAAAAAAAI/AAAAAAAAEhM/_uKtqLTEd78/s50-c-k-no/photo.jpg",
      "userId": "101707959171128419571"
     },
     "user_tz": -540
    },
    "id": "1suqB-UxlP-q",
    "outputId": "21f82917-089d-48a0-dd17-cf5e2fcf1391"
   },
   "outputs": [
    {
     "data": {
      "text/plain": [
       "((20419, 2), (20419, 2))"
      ]
     },
     "execution_count": 17,
     "metadata": {},
     "output_type": "execute_result"
    }
   ],
   "source": [
    "pos.shape, neg.shape"
   ]
  },
  {
   "cell_type": "markdown",
   "metadata": {
    "colab_type": "text",
    "id": "74hYDQ8kmKSt"
   },
   "source": [
    "We concatenate positive and negative reviews"
   ]
  },
  {
   "cell_type": "code",
   "execution_count": 18,
   "metadata": {
    "colab": {
     "autoexec": {
      "startup": false,
      "wait_interval": 0
     },
     "base_uri": "https://localhost:8080/",
     "height": 1969
    },
    "colab_type": "code",
    "executionInfo": {
     "elapsed": 1263,
     "status": "ok",
     "timestamp": 1529376172769,
     "user": {
      "displayName": "Eunji Jun",
      "photoUrl": "//lh3.googleusercontent.com/-NAApMaOBXJo/AAAAAAAAAAI/AAAAAAAAEhM/_uKtqLTEd78/s50-c-k-no/photo.jpg",
      "userId": "101707959171128419571"
     },
     "user_tz": -540
    },
    "id": "y2mX0u2tmHaf",
    "outputId": "e9b075e1-2722-47ca-c4ff-d06e5d41c162"
   },
   "outputs": [
    {
     "data": {
      "text/html": [
       "<div>\n",
       "<style scoped>\n",
       "    .dataframe tbody tr th:only-of-type {\n",
       "        vertical-align: middle;\n",
       "    }\n",
       "\n",
       "    .dataframe tbody tr th {\n",
       "        vertical-align: top;\n",
       "    }\n",
       "\n",
       "    .dataframe thead th {\n",
       "        text-align: right;\n",
       "    }\n",
       "</style>\n",
       "<table border=\"1\" class=\"dataframe\">\n",
       "  <thead>\n",
       "    <tr style=\"text-align: right;\">\n",
       "      <th></th>\n",
       "      <th>text</th>\n",
       "      <th>class</th>\n",
       "    </tr>\n",
       "  </thead>\n",
       "  <tbody>\n",
       "    <tr>\n",
       "      <th>0</th>\n",
       "      <td>guys i got this game 2 days ago and i found it...</td>\n",
       "      <td>1.0</td>\n",
       "    </tr>\n",
       "    <tr>\n",
       "      <th>1</th>\n",
       "      <td>a resounding meh. less than even. this game ha...</td>\n",
       "      <td>0.0</td>\n",
       "    </tr>\n",
       "    <tr>\n",
       "      <th>2</th>\n",
       "      <td>well, its out. i am a massive fan of the tony ...</td>\n",
       "      <td>0.0</td>\n",
       "    </tr>\n",
       "    <tr>\n",
       "      <th>3</th>\n",
       "      <td>a very good game that could have been a lot be...</td>\n",
       "      <td>1.0</td>\n",
       "    </tr>\n",
       "    <tr>\n",
       "      <th>4</th>\n",
       "      <td>simply horrible. dlc full of glitches, lack of...</td>\n",
       "      <td>0.0</td>\n",
       "    </tr>\n",
       "    <tr>\n",
       "      <th>5</th>\n",
       "      <td>for the $60 price tag i feel i've been ripped ...</td>\n",
       "      <td>0.0</td>\n",
       "    </tr>\n",
       "    <tr>\n",
       "      <th>6</th>\n",
       "      <td>november has been another bad month for ps+ us...</td>\n",
       "      <td>0.0</td>\n",
       "    </tr>\n",
       "    <tr>\n",
       "      <th>7</th>\n",
       "      <td>great art style, tongue-in-cheek dialogues, fa...</td>\n",
       "      <td>1.0</td>\n",
       "    </tr>\n",
       "    <tr>\n",
       "      <th>8</th>\n",
       "      <td>i'm giving this a 10 to combatant the totally ...</td>\n",
       "      <td>1.0</td>\n",
       "    </tr>\n",
       "    <tr>\n",
       "      <th>9</th>\n",
       "      <td>nex machina is shoot-em-up kings housemarque's...</td>\n",
       "      <td>1.0</td>\n",
       "    </tr>\n",
       "    <tr>\n",
       "      <th>10</th>\n",
       "      <td>very goog game ...\\r i've played 7 days and i'...</td>\n",
       "      <td>1.0</td>\n",
       "    </tr>\n",
       "    <tr>\n",
       "      <th>11</th>\n",
       "      <td>there’s no fun to be had in , just monotony.</td>\n",
       "      <td>0.0</td>\n",
       "    </tr>\n",
       "    <tr>\n",
       "      <th>12</th>\n",
       "      <td>i wish people would stop comparing this game t...</td>\n",
       "      <td>0.0</td>\n",
       "    </tr>\n",
       "    <tr>\n",
       "      <th>13</th>\n",
       "      <td>sooo fun was to check the developers commentar...</td>\n",
       "      <td>0.0</td>\n",
       "    </tr>\n",
       "    <tr>\n",
       "      <th>14</th>\n",
       "      <td>a realm reborn is one of the biggest reversals...</td>\n",
       "      <td>1.0</td>\n",
       "    </tr>\n",
       "    <tr>\n",
       "      <th>15</th>\n",
       "      <td>honestly, this game is an 8.5 very easily, but...</td>\n",
       "      <td>1.0</td>\n",
       "    </tr>\n",
       "    <tr>\n",
       "      <th>16</th>\n",
       "      <td>i love this game. specially the online modes a...</td>\n",
       "      <td>1.0</td>\n",
       "    </tr>\n",
       "    <tr>\n",
       "      <th>17</th>\n",
       "      <td>this game would be amazing, but there are seve...</td>\n",
       "      <td>0.0</td>\n",
       "    </tr>\n",
       "    <tr>\n",
       "      <th>18</th>\n",
       "      <td>it's a real next gen project! compared to the...</td>\n",
       "      <td>1.0</td>\n",
       "    </tr>\n",
       "    <tr>\n",
       "      <th>19</th>\n",
       "      <td>genuinely one of the worst, most boring and fe...</td>\n",
       "      <td>0.0</td>\n",
       "    </tr>\n",
       "    <tr>\n",
       "      <th>20</th>\n",
       "      <td>its a great game, with some flaws, that im not...</td>\n",
       "      <td>1.0</td>\n",
       "    </tr>\n",
       "    <tr>\n",
       "      <th>21</th>\n",
       "      <td>best racing game. playground always innovating...</td>\n",
       "      <td>1.0</td>\n",
       "    </tr>\n",
       "    <tr>\n",
       "      <th>22</th>\n",
       "      <td>just registered to make this review,  i cant b...</td>\n",
       "      <td>0.0</td>\n",
       "    </tr>\n",
       "    <tr>\n",
       "      <th>23</th>\n",
       "      <td>this game is seriously underrated. it is basic...</td>\n",
       "      <td>1.0</td>\n",
       "    </tr>\n",
       "    <tr>\n",
       "      <th>24</th>\n",
       "      <td>i was very excited to play  on my ps4, came ho...</td>\n",
       "      <td>0.0</td>\n",
       "    </tr>\n",
       "    <tr>\n",
       "      <th>25</th>\n",
       "      <td>complete rip off.\\rcosts $40 (from day 1 that ...</td>\n",
       "      <td>0.0</td>\n",
       "    </tr>\n",
       "    <tr>\n",
       "      <th>26</th>\n",
       "      <td>offers a welcome evolution of the battlefield...</td>\n",
       "      <td>1.0</td>\n",
       "    </tr>\n",
       "    <tr>\n",
       "      <th>27</th>\n",
       "      <td>it's diablo 3 with guns, really, nuff said. th...</td>\n",
       "      <td>1.0</td>\n",
       "    </tr>\n",
       "    <tr>\n",
       "      <th>28</th>\n",
       "      <td>after a long time without a good evil game  is...</td>\n",
       "      <td>1.0</td>\n",
       "    </tr>\n",
       "    <tr>\n",
       "      <th>29</th>\n",
       "      <td>the story is pathetic, it reminds me of the st...</td>\n",
       "      <td>0.0</td>\n",
       "    </tr>\n",
       "    <tr>\n",
       "      <th>...</th>\n",
       "      <td>...</td>\n",
       "      <td>...</td>\n",
       "    </tr>\n",
       "    <tr>\n",
       "      <th>40808</th>\n",
       "      <td>wow this game has a great roster and a great c...</td>\n",
       "      <td>0.0</td>\n",
       "    </tr>\n",
       "    <tr>\n",
       "      <th>40809</th>\n",
       "      <td>an incredible game, a sensational universe to ...</td>\n",
       "      <td>1.0</td>\n",
       "    </tr>\n",
       "    <tr>\n",
       "      <th>40810</th>\n",
       "      <td>is a blast from the past. from when fumita ue...</td>\n",
       "      <td>1.0</td>\n",
       "    </tr>\n",
       "    <tr>\n",
       "      <th>40811</th>\n",
       "      <td>an amazingly detailed game world, with a secre...</td>\n",
       "      <td>1.0</td>\n",
       "    </tr>\n",
       "    <tr>\n",
       "      <th>40812</th>\n",
       "      <td>is a brutal and ugly strategic game that will...</td>\n",
       "      <td>0.0</td>\n",
       "    </tr>\n",
       "    <tr>\n",
       "      <th>40813</th>\n",
       "      <td>the best rpg i've played since skyrim. i never...</td>\n",
       "      <td>1.0</td>\n",
       "    </tr>\n",
       "    <tr>\n",
       "      <th>40814</th>\n",
       "      <td>i'm a big fan of got so my expectation for thi...</td>\n",
       "      <td>1.0</td>\n",
       "    </tr>\n",
       "    <tr>\n",
       "      <th>40815</th>\n",
       "      <td>getting stuck in room-escape or point and clic...</td>\n",
       "      <td>0.0</td>\n",
       "    </tr>\n",
       "    <tr>\n",
       "      <th>40816</th>\n",
       "      <td>i bought this game after a long hiatus from th...</td>\n",
       "      <td>0.0</td>\n",
       "    </tr>\n",
       "    <tr>\n",
       "      <th>40817</th>\n",
       "      <td>absolutely fantastic game! been a fan of trans...</td>\n",
       "      <td>1.0</td>\n",
       "    </tr>\n",
       "    <tr>\n",
       "      <th>40818</th>\n",
       "      <td>the best assassin's creed has to offer, a trul...</td>\n",
       "      <td>1.0</td>\n",
       "    </tr>\n",
       "    <tr>\n",
       "      <th>40819</th>\n",
       "      <td>this is dead rising repackaged and ported to t...</td>\n",
       "      <td>0.0</td>\n",
       "    </tr>\n",
       "    <tr>\n",
       "      <th>40820</th>\n",
       "      <td>pretty deficient, i will pass the poorness of ...</td>\n",
       "      <td>0.0</td>\n",
       "    </tr>\n",
       "    <tr>\n",
       "      <th>40821</th>\n",
       "      <td>game is out dated. first time lkayed it and it...</td>\n",
       "      <td>0.0</td>\n",
       "    </tr>\n",
       "    <tr>\n",
       "      <th>40822</th>\n",
       "      <td>wow! i think i'm gonna be that disappointing a...</td>\n",
       "      <td>1.0</td>\n",
       "    </tr>\n",
       "    <tr>\n",
       "      <th>40823</th>\n",
       "      <td>i can some this game up in one word a disgrace...</td>\n",
       "      <td>0.0</td>\n",
       "    </tr>\n",
       "    <tr>\n",
       "      <th>40824</th>\n",
       "      <td>brings to modern consoles some intriguing cit...</td>\n",
       "      <td>0.0</td>\n",
       "    </tr>\n",
       "    <tr>\n",
       "      <th>40825</th>\n",
       "      <td>best game since the last of us and far cry 3!\\...</td>\n",
       "      <td>1.0</td>\n",
       "    </tr>\n",
       "    <tr>\n",
       "      <th>40826</th>\n",
       "      <td>good graphics,_ and that's about it..\\rthe gam...</td>\n",
       "      <td>0.0</td>\n",
       "    </tr>\n",
       "    <tr>\n",
       "      <th>40827</th>\n",
       "      <td>the level of excitement i had over the first t...</td>\n",
       "      <td>1.0</td>\n",
       "    </tr>\n",
       "    <tr>\n",
       "      <th>40828</th>\n",
       "      <td>better game than cod:aw\\rtreyarch, cool game!\\...</td>\n",
       "      <td>1.0</td>\n",
       "    </tr>\n",
       "    <tr>\n",
       "      <th>40829</th>\n",
       "      <td>all units!\\rlove halo or rts games, a must buy...</td>\n",
       "      <td>1.0</td>\n",
       "    </tr>\n",
       "    <tr>\n",
       "      <th>40830</th>\n",
       "      <td>being a touhou game, i'd probably like it even...</td>\n",
       "      <td>1.0</td>\n",
       "    </tr>\n",
       "    <tr>\n",
       "      <th>40831</th>\n",
       "      <td>i can see the appeal of this game, but i would...</td>\n",
       "      <td>0.0</td>\n",
       "    </tr>\n",
       "    <tr>\n",
       "      <th>40832</th>\n",
       "      <td>all the 0 marks, are from playstation users, o...</td>\n",
       "      <td>1.0</td>\n",
       "    </tr>\n",
       "    <tr>\n",
       "      <th>40833</th>\n",
       "      <td>what an absolute gem of a game, as a die hard ...</td>\n",
       "      <td>1.0</td>\n",
       "    </tr>\n",
       "    <tr>\n",
       "      <th>40834</th>\n",
       "      <td>true dante and vergil are back and kicking ass...</td>\n",
       "      <td>1.0</td>\n",
       "    </tr>\n",
       "    <tr>\n",
       "      <th>40835</th>\n",
       "      <td>is a sub-mediocre platformer shooter whose ow...</td>\n",
       "      <td>0.0</td>\n",
       "    </tr>\n",
       "    <tr>\n",
       "      <th>40836</th>\n",
       "      <td>i love this game. the single player is amazing...</td>\n",
       "      <td>1.0</td>\n",
       "    </tr>\n",
       "    <tr>\n",
       "      <th>40837</th>\n",
       "      <td>although i liked the minimalist aesthetics and...</td>\n",
       "      <td>0.0</td>\n",
       "    </tr>\n",
       "  </tbody>\n",
       "</table>\n",
       "<p>40838 rows × 2 columns</p>\n",
       "</div>"
      ],
      "text/plain": [
       "                                                    text  class\n",
       "0      guys i got this game 2 days ago and i found it...    1.0\n",
       "1      a resounding meh. less than even. this game ha...    0.0\n",
       "2      well, its out. i am a massive fan of the tony ...    0.0\n",
       "3      a very good game that could have been a lot be...    1.0\n",
       "4      simply horrible. dlc full of glitches, lack of...    0.0\n",
       "5      for the $60 price tag i feel i've been ripped ...    0.0\n",
       "6      november has been another bad month for ps+ us...    0.0\n",
       "7      great art style, tongue-in-cheek dialogues, fa...    1.0\n",
       "8      i'm giving this a 10 to combatant the totally ...    1.0\n",
       "9      nex machina is shoot-em-up kings housemarque's...    1.0\n",
       "10     very goog game ...\\r i've played 7 days and i'...    1.0\n",
       "11          there’s no fun to be had in , just monotony.    0.0\n",
       "12     i wish people would stop comparing this game t...    0.0\n",
       "13     sooo fun was to check the developers commentar...    0.0\n",
       "14     a realm reborn is one of the biggest reversals...    1.0\n",
       "15     honestly, this game is an 8.5 very easily, but...    1.0\n",
       "16     i love this game. specially the online modes a...    1.0\n",
       "17     this game would be amazing, but there are seve...    0.0\n",
       "18      it's a real next gen project! compared to the...    1.0\n",
       "19     genuinely one of the worst, most boring and fe...    0.0\n",
       "20     its a great game, with some flaws, that im not...    1.0\n",
       "21     best racing game. playground always innovating...    1.0\n",
       "22     just registered to make this review,  i cant b...    0.0\n",
       "23     this game is seriously underrated. it is basic...    1.0\n",
       "24     i was very excited to play  on my ps4, came ho...    0.0\n",
       "25     complete rip off.\\rcosts $40 (from day 1 that ...    0.0\n",
       "26      offers a welcome evolution of the battlefield...    1.0\n",
       "27     it's diablo 3 with guns, really, nuff said. th...    1.0\n",
       "28     after a long time without a good evil game  is...    1.0\n",
       "29     the story is pathetic, it reminds me of the st...    0.0\n",
       "...                                                  ...    ...\n",
       "40808  wow this game has a great roster and a great c...    0.0\n",
       "40809  an incredible game, a sensational universe to ...    1.0\n",
       "40810   is a blast from the past. from when fumita ue...    1.0\n",
       "40811  an amazingly detailed game world, with a secre...    1.0\n",
       "40812   is a brutal and ugly strategic game that will...    0.0\n",
       "40813  the best rpg i've played since skyrim. i never...    1.0\n",
       "40814  i'm a big fan of got so my expectation for thi...    1.0\n",
       "40815  getting stuck in room-escape or point and clic...    0.0\n",
       "40816  i bought this game after a long hiatus from th...    0.0\n",
       "40817  absolutely fantastic game! been a fan of trans...    1.0\n",
       "40818  the best assassin's creed has to offer, a trul...    1.0\n",
       "40819  this is dead rising repackaged and ported to t...    0.0\n",
       "40820  pretty deficient, i will pass the poorness of ...    0.0\n",
       "40821  game is out dated. first time lkayed it and it...    0.0\n",
       "40822  wow! i think i'm gonna be that disappointing a...    1.0\n",
       "40823  i can some this game up in one word a disgrace...    0.0\n",
       "40824   brings to modern consoles some intriguing cit...    0.0\n",
       "40825  best game since the last of us and far cry 3!\\...    1.0\n",
       "40826  good graphics,_ and that's about it..\\rthe gam...    0.0\n",
       "40827  the level of excitement i had over the first t...    1.0\n",
       "40828  better game than cod:aw\\rtreyarch, cool game!\\...    1.0\n",
       "40829  all units!\\rlove halo or rts games, a must buy...    1.0\n",
       "40830  being a touhou game, i'd probably like it even...    1.0\n",
       "40831  i can see the appeal of this game, but i would...    0.0\n",
       "40832  all the 0 marks, are from playstation users, o...    1.0\n",
       "40833  what an absolute gem of a game, as a die hard ...    1.0\n",
       "40834  true dante and vergil are back and kicking ass...    1.0\n",
       "40835   is a sub-mediocre platformer shooter whose ow...    0.0\n",
       "40836  i love this game. the single player is amazing...    1.0\n",
       "40837  although i liked the minimalist aesthetics and...    0.0\n",
       "\n",
       "[40838 rows x 2 columns]"
      ]
     },
     "execution_count": 18,
     "metadata": {},
     "output_type": "execute_result"
    }
   ],
   "source": [
    "df = pd.concat([pos, neg]).sample(frac=1).reset_index(drop=True)\n",
    "df"
   ]
  },
  {
   "cell_type": "code",
   "execution_count": 19,
   "metadata": {
    "colab": {
     "autoexec": {
      "startup": false,
      "wait_interval": 0
     },
     "base_uri": "https://localhost:8080/",
     "height": 34
    },
    "colab_type": "code",
    "executionInfo": {
     "elapsed": 683,
     "status": "ok",
     "timestamp": 1529376174714,
     "user": {
      "displayName": "Eunji Jun",
      "photoUrl": "//lh3.googleusercontent.com/-NAApMaOBXJo/AAAAAAAAAAI/AAAAAAAAEhM/_uKtqLTEd78/s50-c-k-no/photo.jpg",
      "userId": "101707959171128419571"
     },
     "user_tz": -540
    },
    "id": "j6rvIwbUmTV4",
    "outputId": "15abfd74-f3f6-442b-d7cd-2a5578dc1937"
   },
   "outputs": [
    {
     "data": {
      "text/plain": [
       "(40838, 2)"
      ]
     },
     "execution_count": 19,
     "metadata": {},
     "output_type": "execute_result"
    }
   ],
   "source": [
    "df.shape"
   ]
  },
  {
   "cell_type": "markdown",
   "metadata": {
    "colab_type": "text",
    "id": "Lk-Ac74Mm0iG"
   },
   "source": [
    "Split data into train and test set"
   ]
  },
  {
   "cell_type": "code",
   "execution_count": 20,
   "metadata": {
    "colab": {
     "autoexec": {
      "startup": false,
      "wait_interval": 0
     }
    },
    "colab_type": "code",
    "id": "ANdU4fSkmzN4"
   },
   "outputs": [],
   "source": [
    "X_train, X_test, y_train, y_test = train_test_split(df['text'].values, df['class'].values, test_size=0.2, random_state=42)"
   ]
  },
  {
   "cell_type": "code",
   "execution_count": 21,
   "metadata": {
    "colab": {
     "autoexec": {
      "startup": false,
      "wait_interval": 0
     },
     "base_uri": "https://localhost:8080/",
     "height": 34
    },
    "colab_type": "code",
    "executionInfo": {
     "elapsed": 700,
     "status": "ok",
     "timestamp": 1529376179975,
     "user": {
      "displayName": "Eunji Jun",
      "photoUrl": "//lh3.googleusercontent.com/-NAApMaOBXJo/AAAAAAAAAAI/AAAAAAAAEhM/_uKtqLTEd78/s50-c-k-no/photo.jpg",
      "userId": "101707959171128419571"
     },
     "user_tz": -540
    },
    "id": "Fi8vJW_UnK0c",
    "outputId": "857f7b54-b51e-443e-df59-8b7e5807a674"
   },
   "outputs": [
    {
     "data": {
      "text/plain": [
       "(32670, 8168, 32670, 8168)"
      ]
     },
     "execution_count": 21,
     "metadata": {},
     "output_type": "execute_result"
    }
   ],
   "source": [
    "len(X_train), len(X_test), len(y_train), len(y_test)"
   ]
  },
  {
   "cell_type": "markdown",
   "metadata": {
    "colab_type": "text",
    "id": "Mem3lnEfnmKn"
   },
   "source": [
    "# Preparing the data\n",
    "Computers do not understand about plain text, so we need to transform our documents into numeric representations."
   ]
  },
  {
   "cell_type": "markdown",
   "metadata": {
    "colab_type": "text",
    "id": "TNYNK0eySvb_"
   },
   "source": [
    "\n",
    "\n",
    "---\n",
    "\n",
    "\n",
    "## Tokenization\n",
    "\n",
    "\n",
    "*   Splitting text into relevant units(characters, words, phrases or others), which are called tokens.\n",
    "*   For instance:\n",
    "\"a very good game that could have been a lot better\" -> ['a', 'very', 'good', 'game', 'that', 'could', 'have', 'been', 'a', 'lot', 'better']\n",
    "\n",
    "*   There are several tonekizers out there that we can use: spaCy, keras, NLTK, fast.ai, just to name a few.\n",
    "\n"
   ]
  },
  {
   "cell_type": "markdown",
   "metadata": {
    "colab_type": "text",
    "id": "kw5lN6DOciSd"
   },
   "source": [
    "\n",
    "\n",
    "---\n",
    "\n",
    "## Bag-of-Words (BoW)\n",
    "\n",
    "\n",
    "\n",
    "*   Creating a numerical feature vector for each document\n",
    "*   BoW counts the number of times that tokens appear in every document of the collection.\n",
    "*   It returns a matrix with the next characteristics:\n",
    "\n",
    "\n",
    "      1.   Number of columns = number of unique tokens in the whole collection of documents (vocabulary)\n",
    "      2.   Number of rows = number of documents in the whole collection of documents\n",
    "\n",
    "\n",
    "\n",
    "\n",
    "\n",
    "\n",
    "\n",
    "\n",
    "---\n",
    "\n"
   ]
  },
  {
   "cell_type": "code",
   "execution_count": 22,
   "metadata": {
    "colab": {
     "autoexec": {
      "startup": false,
      "wait_interval": 0
     }
    },
    "colab_type": "code",
    "id": "wflaarBwpwm7"
   },
   "outputs": [],
   "source": [
    "# vect = CountVectorizer(tokenizer=word_tokenize)\n",
    "vect = CountVectorizer(tokenizer=RegexpTokenizer(\"[\\w']+\").tokenize)\n",
    "\n",
    "# vect = CountVectorizer(tokenizer=WordPunctTokenizer().tokenize)\n",
    "\n",
    "\n",
    "tf_train = vect.fit_transform(X_train)\n",
    "tf_test = vect.transform(X_test)"
   ]
  },
  {
   "cell_type": "code",
   "execution_count": 23,
   "metadata": {
    "colab": {
     "autoexec": {
      "startup": false,
      "wait_interval": 0
     }
    },
    "colab_type": "code",
    "id": "rCxz-I2b4yW5"
   },
   "outputs": [],
   "source": [
    "tokenizer=RegexpTokenizer(\"[\\w']+\")\n",
    "vect = CountVectorizer(tokenizer=RegexpTokenizer(\"[\\w']+\").tokenize)\n",
    "# vect = CountVectorizer(analyzer='word', tokenizer=RegexpTokenizer(\"[\\w']+\").tokenize,\n",
    "#                        decode_error='strict', input='content', encoding='utf-8')\n",
    "tf_train = vect.fit_transform(X_train)"
   ]
  },
  {
   "cell_type": "code",
   "execution_count": 24,
   "metadata": {
    "colab": {
     "autoexec": {
      "startup": false,
      "wait_interval": 0
     }
    },
    "colab_type": "code",
    "id": "p_0HLzni-lde"
   },
   "outputs": [],
   "source": [
    "def base_filter():\n",
    "    f = string.punctuation\n",
    "    f = f.replace(\"'\", '')\n",
    "    f += '\\t\\n'\n",
    "    return f"
   ]
  },
  {
   "cell_type": "code",
   "execution_count": 25,
   "metadata": {
    "colab": {
     "autoexec": {
      "startup": false,
      "wait_interval": 0
     },
     "base_uri": "https://localhost:8080/",
     "height": 456
    },
    "colab_type": "code",
    "executionInfo": {
     "elapsed": 1575,
     "status": "error",
     "timestamp": 1529377129506,
     "user": {
      "displayName": "Eunji Jun",
      "photoUrl": "//lh3.googleusercontent.com/-NAApMaOBXJo/AAAAAAAAAAI/AAAAAAAAEhM/_uKtqLTEd78/s50-c-k-no/photo.jpg",
      "userId": "101707959171128419571"
     },
     "user_tz": -540
    },
    "id": "89F_2VfQ-np9",
    "outputId": "8f57016f-0e05-4403-8888-1465032684f4"
   },
   "outputs": [
    {
     "ename": "TypeError",
     "evalue": "first argument must be string or compiled pattern",
     "output_type": "error",
     "traceback": [
      "\u001b[1;31m---------------------------------------------------------------------------\u001b[0m",
      "\u001b[1;31mTypeError\u001b[0m                                 Traceback (most recent call last)",
      "\u001b[1;32m<ipython-input-25-18589f5734ff>\u001b[0m in \u001b[0;36m<module>\u001b[1;34m()\u001b[0m\n\u001b[1;32m----> 1\u001b[1;33m \u001b[0mre_tok\u001b[0m \u001b[1;33m=\u001b[0m \u001b[0mre\u001b[0m\u001b[1;33m.\u001b[0m\u001b[0mcompile\u001b[0m\u001b[1;33m(\u001b[0m \u001b[0mbase_filter\u001b[0m \u001b[1;33m)\u001b[0m\u001b[1;33m\u001b[0m\u001b[0m\n\u001b[0m\u001b[0;32m      2\u001b[0m \u001b[1;32mdef\u001b[0m \u001b[0mtokenize\u001b[0m\u001b[1;33m(\u001b[0m\u001b[0ms\u001b[0m\u001b[1;33m)\u001b[0m\u001b[1;33m:\u001b[0m \u001b[1;32mreturn\u001b[0m \u001b[0mre_tok\u001b[0m\u001b[1;33m.\u001b[0m\u001b[0msub\u001b[0m\u001b[1;33m(\u001b[0m\u001b[1;34mr' \\1 '\u001b[0m\u001b[1;33m,\u001b[0m \u001b[0ms\u001b[0m\u001b[1;33m)\u001b[0m\u001b[1;33m.\u001b[0m\u001b[0msplit\u001b[0m\u001b[1;33m(\u001b[0m\u001b[1;33m)\u001b[0m\u001b[1;33m\u001b[0m\u001b[0m\n\u001b[0;32m      3\u001b[0m \u001b[0mvect\u001b[0m \u001b[1;33m=\u001b[0m \u001b[0mCountVectorizer\u001b[0m\u001b[1;33m(\u001b[0m\u001b[0mtokenizer\u001b[0m\u001b[1;33m=\u001b[0m\u001b[0mtokenize\u001b[0m\u001b[1;33m)\u001b[0m\u001b[1;33m\u001b[0m\u001b[0m\n",
      "\u001b[1;32mc:\\users\\ryu07\\anaconda3\\envs\\fastcampus\\lib\\re.py\u001b[0m in \u001b[0;36mcompile\u001b[1;34m(pattern, flags)\u001b[0m\n\u001b[0;32m    231\u001b[0m \u001b[1;32mdef\u001b[0m \u001b[0mcompile\u001b[0m\u001b[1;33m(\u001b[0m\u001b[0mpattern\u001b[0m\u001b[1;33m,\u001b[0m \u001b[0mflags\u001b[0m\u001b[1;33m=\u001b[0m\u001b[1;36m0\u001b[0m\u001b[1;33m)\u001b[0m\u001b[1;33m:\u001b[0m\u001b[1;33m\u001b[0m\u001b[0m\n\u001b[0;32m    232\u001b[0m     \u001b[1;34m\"Compile a regular expression pattern, returning a pattern object.\"\u001b[0m\u001b[1;33m\u001b[0m\u001b[0m\n\u001b[1;32m--> 233\u001b[1;33m     \u001b[1;32mreturn\u001b[0m \u001b[0m_compile\u001b[0m\u001b[1;33m(\u001b[0m\u001b[0mpattern\u001b[0m\u001b[1;33m,\u001b[0m \u001b[0mflags\u001b[0m\u001b[1;33m)\u001b[0m\u001b[1;33m\u001b[0m\u001b[0m\n\u001b[0m\u001b[0;32m    234\u001b[0m \u001b[1;33m\u001b[0m\u001b[0m\n\u001b[0;32m    235\u001b[0m \u001b[1;32mdef\u001b[0m \u001b[0mpurge\u001b[0m\u001b[1;33m(\u001b[0m\u001b[1;33m)\u001b[0m\u001b[1;33m:\u001b[0m\u001b[1;33m\u001b[0m\u001b[0m\n",
      "\u001b[1;32mc:\\users\\ryu07\\anaconda3\\envs\\fastcampus\\lib\\re.py\u001b[0m in \u001b[0;36m_compile\u001b[1;34m(pattern, flags)\u001b[0m\n\u001b[0;32m    298\u001b[0m         \u001b[1;32mreturn\u001b[0m \u001b[0mpattern\u001b[0m\u001b[1;33m\u001b[0m\u001b[0m\n\u001b[0;32m    299\u001b[0m     \u001b[1;32mif\u001b[0m \u001b[1;32mnot\u001b[0m \u001b[0msre_compile\u001b[0m\u001b[1;33m.\u001b[0m\u001b[0misstring\u001b[0m\u001b[1;33m(\u001b[0m\u001b[0mpattern\u001b[0m\u001b[1;33m)\u001b[0m\u001b[1;33m:\u001b[0m\u001b[1;33m\u001b[0m\u001b[0m\n\u001b[1;32m--> 300\u001b[1;33m         \u001b[1;32mraise\u001b[0m \u001b[0mTypeError\u001b[0m\u001b[1;33m(\u001b[0m\u001b[1;34m\"first argument must be string or compiled pattern\"\u001b[0m\u001b[1;33m)\u001b[0m\u001b[1;33m\u001b[0m\u001b[0m\n\u001b[0m\u001b[0;32m    301\u001b[0m     \u001b[0mp\u001b[0m \u001b[1;33m=\u001b[0m \u001b[0msre_compile\u001b[0m\u001b[1;33m.\u001b[0m\u001b[0mcompile\u001b[0m\u001b[1;33m(\u001b[0m\u001b[0mpattern\u001b[0m\u001b[1;33m,\u001b[0m \u001b[0mflags\u001b[0m\u001b[1;33m)\u001b[0m\u001b[1;33m\u001b[0m\u001b[0m\n\u001b[0;32m    302\u001b[0m     \u001b[1;32mif\u001b[0m \u001b[1;32mnot\u001b[0m \u001b[1;33m(\u001b[0m\u001b[0mflags\u001b[0m \u001b[1;33m&\u001b[0m \u001b[0mDEBUG\u001b[0m\u001b[1;33m)\u001b[0m\u001b[1;33m:\u001b[0m\u001b[1;33m\u001b[0m\u001b[0m\n",
      "\u001b[1;31mTypeError\u001b[0m: first argument must be string or compiled pattern"
     ]
    }
   ],
   "source": [
    "re_tok = re.compile( base_filter )\n",
    "def tokenize(s): return re_tok.sub(r' \\1 ', s).split()\n",
    "vect = CountVectorizer(tokenizer=tokenize)"
   ]
  },
  {
   "cell_type": "code",
   "execution_count": 26,
   "metadata": {
    "colab": {
     "autoexec": {
      "startup": false,
      "wait_interval": 0
     },
     "base_uri": "https://localhost:8080/",
     "height": 156
    },
    "colab_type": "code",
    "executionInfo": {
     "elapsed": 898,
     "status": "ok",
     "timestamp": 1529376693815,
     "user": {
      "displayName": "Eunji Jun",
      "photoUrl": "//lh3.googleusercontent.com/-NAApMaOBXJo/AAAAAAAAAAI/AAAAAAAAEhM/_uKtqLTEd78/s50-c-k-no/photo.jpg",
      "userId": "101707959171128419571"
     },
     "user_tz": -540
    },
    "id": "esmBNEIX3QmQ",
    "outputId": "70a91571-4732-45ac-f883-f1ddf392759b"
   },
   "outputs": [
    {
     "data": {
      "text/plain": [
       "CountVectorizer(analyzer='word', binary=False, decode_error='strict',\n",
       "        dtype=<class 'numpy.int64'>, encoding='utf-8', input='content',\n",
       "        lowercase=True, max_df=1.0, max_features=None, min_df=1,\n",
       "        ngram_range=(1, 1), preprocessor=None, stop_words=None,\n",
       "        strip_accents=None, token_pattern='(?u)\\\\b\\\\w\\\\w+\\\\b',\n",
       "        tokenizer=<bound method RegexpTokenizer.tokenize of RegexpTokenizer(pattern=\"[\\\\w']+\", gaps=False, discard_empty=True, flags=<RegexFlag.UNICODE|DOTALL|MULTILINE: 56>)>,\n",
       "        vocabulary=None)"
      ]
     },
     "execution_count": 26,
     "metadata": {},
     "output_type": "execute_result"
    }
   ],
   "source": [
    "vect"
   ]
  },
  {
   "cell_type": "code",
   "execution_count": 27,
   "metadata": {
    "colab": {
     "autoexec": {
      "startup": false,
      "wait_interval": 0
     },
     "base_uri": "https://localhost:8080/",
     "height": 51
    },
    "colab_type": "code",
    "executionInfo": {
     "elapsed": 716,
     "status": "ok",
     "timestamp": 1529376997815,
     "user": {
      "displayName": "Eunji Jun",
      "photoUrl": "//lh3.googleusercontent.com/-NAApMaOBXJo/AAAAAAAAAAI/AAAAAAAAEhM/_uKtqLTEd78/s50-c-k-no/photo.jpg",
      "userId": "101707959171128419571"
     },
     "user_tz": -540
    },
    "id": "ePrF_g5adfnr",
    "outputId": "74dbe918-9ad6-43bd-bb20-5c9a4823f359"
   },
   "outputs": [
    {
     "data": {
      "text/plain": [
       "<32670x47547 sparse matrix of type '<class 'numpy.int64'>'\n",
       "\twith 2410815 stored elements in Compressed Sparse Row format>"
      ]
     },
     "execution_count": 27,
     "metadata": {},
     "output_type": "execute_result"
    }
   ],
   "source": [
    "tf_train"
   ]
  },
  {
   "cell_type": "code",
   "execution_count": 28,
   "metadata": {
    "colab": {
     "autoexec": {
      "startup": false,
      "wait_interval": 0
     },
     "base_uri": "https://localhost:8080/",
     "height": 34
    },
    "colab_type": "code",
    "executionInfo": {
     "elapsed": 738,
     "status": "ok",
     "timestamp": 1529376696482,
     "user": {
      "displayName": "Eunji Jun",
      "photoUrl": "//lh3.googleusercontent.com/-NAApMaOBXJo/AAAAAAAAAAI/AAAAAAAAEhM/_uKtqLTEd78/s50-c-k-no/photo.jpg",
      "userId": "101707959171128419571"
     },
     "user_tz": -540
    },
    "id": "AWUDk4LIw_Va",
    "outputId": "619c063f-25e3-426b-8727-e5a333b90bff"
   },
   "outputs": [
    {
     "data": {
      "text/plain": [
       "[\"'fulton'\", \"'fun'\", \"'functions'\", \"'fury\", \"'galaxy\"]"
      ]
     },
     "execution_count": 28,
     "metadata": {},
     "output_type": "execute_result"
    }
   ],
   "source": [
    "vocab = vect.get_feature_names()\n",
    "vocab[403:408]"
   ]
  },
  {
   "cell_type": "code",
   "execution_count": 29,
   "metadata": {
    "colab": {
     "autoexec": {
      "startup": false,
      "wait_interval": 0
     },
     "base_uri": "https://localhost:8080/",
     "height": 51
    },
    "colab_type": "code",
    "executionInfo": {
     "elapsed": 606,
     "status": "ok",
     "timestamp": 1529341277636,
     "user": {
      "displayName": "Eunji Jun",
      "photoUrl": "//lh3.googleusercontent.com/-NAApMaOBXJo/AAAAAAAAAAI/AAAAAAAAEhM/_uKtqLTEd78/s50-c-k-no/photo.jpg",
      "userId": "101707959171128419571"
     },
     "user_tz": -540
    },
    "id": "gFU1ivs7pG44",
    "outputId": "82448d5f-5aa1-40db-9acb-51b0c5a193e7"
   },
   "outputs": [
    {
     "data": {
      "text/plain": [
       "<8168x47547 sparse matrix of type '<class 'numpy.int64'>'\n",
       "\twith 598639 stored elements in Compressed Sparse Row format>"
      ]
     },
     "execution_count": 29,
     "metadata": {},
     "output_type": "execute_result"
    }
   ],
   "source": [
    "tf_test"
   ]
  },
  {
   "cell_type": "markdown",
   "metadata": {
    "colab_type": "text",
    "id": "TpPefi8trEbV"
   },
   "source": [
    "32469 training documents, 8163 test documents and 60865 tokens in the vocabulary.\n",
    "\n",
    "Just a small fraction of tokens are present in each document, so most part of cells are filled with zeros. For efficient storage, sparse matrices are used."
   ]
  },
  {
   "cell_type": "code",
   "execution_count": 30,
   "metadata": {
    "colab": {
     "autoexec": {
      "startup": false,
      "wait_interval": 0
     },
     "base_uri": "https://localhost:8080/",
     "height": 54
    },
    "colab_type": "code",
    "executionInfo": {
     "elapsed": 587,
     "status": "ok",
     "timestamp": 1529341323589,
     "user": {
      "displayName": "Eunji Jun",
      "photoUrl": "//lh3.googleusercontent.com/-NAApMaOBXJo/AAAAAAAAAAI/AAAAAAAAEhM/_uKtqLTEd78/s50-c-k-no/photo.jpg",
      "userId": "101707959171128419571"
     },
     "user_tz": -540
    },
    "id": "NV_dyiC_2Jj9",
    "outputId": "16921d3f-6db0-46d8-8ea0-f3fac3a5f6e3"
   },
   "outputs": [
    {
     "data": {
      "text/plain": [
       "\"on paper, then,  is an exciting proposition that bundles the promises of aspirational game design with the raw power and fun associated with motorbikes. unfortunately, those promises are broken and the resulting game falls flat. unless you're so enamoured with two-wheeled machines that you simply can't help but pick yourself up a copy, you should wait for a new contender to try its hand at delivering a biking game of this scope.\""
      ]
     },
     "execution_count": 30,
     "metadata": {},
     "output_type": "execute_result"
    }
   ],
   "source": [
    "X_train[0]"
   ]
  },
  {
   "cell_type": "code",
   "execution_count": 31,
   "metadata": {
    "colab": {
     "autoexec": {
      "startup": false,
      "wait_interval": 0
     },
     "base_uri": "https://localhost:8080/",
     "height": 4777
    },
    "colab_type": "code",
    "executionInfo": {
     "elapsed": 659,
     "status": "ok",
     "timestamp": 1529341343016,
     "user": {
      "displayName": "Eunji Jun",
      "photoUrl": "//lh3.googleusercontent.com/-NAApMaOBXJo/AAAAAAAAAAI/AAAAAAAAEhM/_uKtqLTEd78/s50-c-k-no/photo.jpg",
      "userId": "101707959171128419571"
     },
     "user_tz": -540
    },
    "id": "D-jOdvB_2NuE",
    "outputId": "e0cb988e-6c5f-4f0a-8f57-5ab2a2c2d5c1"
   },
   "outputs": [
    {
     "data": {
      "text/plain": [
       "{'',\n",
       " 'a',\n",
       " 'an',\n",
       " 'and',\n",
       " 'are',\n",
       " 'aspirational',\n",
       " 'associated',\n",
       " 'at',\n",
       " 'biking',\n",
       " 'broken',\n",
       " 'bundles',\n",
       " 'but',\n",
       " \"can't\",\n",
       " 'contender',\n",
       " 'copy,',\n",
       " 'delivering',\n",
       " 'design',\n",
       " 'enamoured',\n",
       " 'exciting',\n",
       " 'falls',\n",
       " 'flat.',\n",
       " 'for',\n",
       " 'fun',\n",
       " 'game',\n",
       " 'hand',\n",
       " 'help',\n",
       " 'is',\n",
       " 'its',\n",
       " 'machines',\n",
       " 'motorbikes.',\n",
       " 'new',\n",
       " 'of',\n",
       " 'on',\n",
       " 'paper,',\n",
       " 'pick',\n",
       " 'power',\n",
       " 'promises',\n",
       " 'proposition',\n",
       " 'raw',\n",
       " 'resulting',\n",
       " 'scope.',\n",
       " 'should',\n",
       " 'simply',\n",
       " 'so',\n",
       " 'that',\n",
       " 'the',\n",
       " 'then,',\n",
       " 'this',\n",
       " 'those',\n",
       " 'to',\n",
       " 'try',\n",
       " 'two-wheeled',\n",
       " 'unfortunately,',\n",
       " 'unless',\n",
       " 'up',\n",
       " 'wait',\n",
       " 'with',\n",
       " 'you',\n",
       " \"you're\",\n",
       " 'yourself'}"
      ]
     },
     "execution_count": 31,
     "metadata": {},
     "output_type": "execute_result"
    }
   ],
   "source": [
    "w0 = set([o for o in X_train[0].split(' ')])\n",
    "w0"
   ]
  },
  {
   "cell_type": "code",
   "execution_count": 32,
   "metadata": {
    "colab": {
     "autoexec": {
      "startup": false,
      "wait_interval": 0
     },
     "base_uri": "https://localhost:8080/",
     "height": 34
    },
    "colab_type": "code",
    "executionInfo": {
     "elapsed": 627,
     "status": "ok",
     "timestamp": 1529341498188,
     "user": {
      "displayName": "Eunji Jun",
      "photoUrl": "//lh3.googleusercontent.com/-NAApMaOBXJo/AAAAAAAAAAI/AAAAAAAAEhM/_uKtqLTEd78/s50-c-k-no/photo.jpg",
      "userId": "101707959171128419571"
     },
     "user_tz": -540
    },
    "id": "JIparcDo2ypE",
    "outputId": "0313317b-f33f-4d47-fcff-1f778c634591"
   },
   "outputs": [
    {
     "data": {
      "text/plain": [
       "44390"
      ]
     },
     "execution_count": 32,
     "metadata": {},
     "output_type": "execute_result"
    }
   ],
   "source": [
    "vect.vocabulary_['unless']"
   ]
  },
  {
   "cell_type": "code",
   "execution_count": 33,
   "metadata": {
    "colab": {
     "autoexec": {
      "startup": false,
      "wait_interval": 0
     },
     "base_uri": "https://localhost:8080/",
     "height": 34
    },
    "colab_type": "code",
    "executionInfo": {
     "elapsed": 789,
     "status": "ok",
     "timestamp": 1529341518692,
     "user": {
      "displayName": "Eunji Jun",
      "photoUrl": "//lh3.googleusercontent.com/-NAApMaOBXJo/AAAAAAAAAAI/AAAAAAAAEhM/_uKtqLTEd78/s50-c-k-no/photo.jpg",
      "userId": "101707959171128419571"
     },
     "user_tz": -540
    },
    "id": "75IL7A6a25Kn",
    "outputId": "6763597c-8504-4e66-892f-8648a034ab9d"
   },
   "outputs": [
    {
     "data": {
      "text/plain": [
       "0"
      ]
     },
     "execution_count": 33,
     "metadata": {},
     "output_type": "execute_result"
    }
   ],
   "source": [
    "tf_train[0, 44486]"
   ]
  },
  {
   "cell_type": "markdown",
   "metadata": {
    "colab_type": "text",
    "id": "uGo8aAWRrU-a"
   },
   "source": [
    "# Building a classifier"
   ]
  },
  {
   "cell_type": "markdown",
   "metadata": {
    "colab_type": "text",
    "id": "0z6iV-MQrafC"
   },
   "source": [
    "Naive Bayes is a probabilistic learning method based on applying Bayes' theorem. There are some variations of the algorithm but here we will work with Multinomial."
   ]
  },
  {
   "cell_type": "markdown",
   "metadata": {
    "colab_type": "text",
    "id": "bwNODvdErmzj"
   },
   "source": [
    "## Multinomial Naive Bayes\n",
    "Let each row of out term-document training matrix be the feature count vector for training case *i*.\n",
    "\n",
    "tf_train[i]  # feature count vector for training case *i*\n",
    "\n",
    "y_train[i]  # label for training case *i*\n",
    "\n",
    "\n",
    "---\n",
    "\n"
   ]
  },
  {
   "cell_type": "markdown",
   "metadata": {
    "colab_type": "text",
    "id": "M9Z142ASsFOv"
   },
   "source": [
    "The count vectors are defined as:\n",
    "\n",
    "*p*=sum of all feature count vectors with label 1\n",
    "\n",
    "*q*=sum of all feature count vectors with label 0"
   ]
  },
  {
   "cell_type": "code",
   "execution_count": 34,
   "metadata": {
    "colab": {
     "autoexec": {
      "startup": false,
      "wait_interval": 0
     }
    },
    "colab_type": "code",
    "id": "VuQcOajQsBhe"
   },
   "outputs": [],
   "source": [
    "p = (tf_train[y_train==1].sum(0) + 1).astype('float')\n",
    "q = (tf_train[y_train==0].sum(0) + 1).astype('float')"
   ]
  },
  {
   "cell_type": "markdown",
   "metadata": {
    "colab_type": "text",
    "id": "IeFk33ihtkKW"
   },
   "source": [
    "Notice that we add 1 to both count vectors to ensure that every token appear at least one time in each class.\n",
    "\n",
    "\n",
    "---\n",
    "\n",
    "The log-count ratie *r* is:\n"
   ]
  },
  {
   "cell_type": "code",
   "execution_count": 35,
   "metadata": {
    "colab": {
     "autoexec": {
      "startup": false,
      "wait_interval": 0
     },
     "base_uri": "https://localhost:8080/",
     "height": 105
    },
    "colab_type": "code",
    "executionInfo": {
     "elapsed": 605,
     "status": "ok",
     "timestamp": 1529342014314,
     "user": {
      "displayName": "Eunji Jun",
      "photoUrl": "//lh3.googleusercontent.com/-NAApMaOBXJo/AAAAAAAAAAI/AAAAAAAAEhM/_uKtqLTEd78/s50-c-k-no/photo.jpg",
      "userId": "101707959171128419571"
     },
     "user_tz": -540
    },
    "id": "ezYp35zctAkn",
    "outputId": "5c0e7ba1-78ae-4558-b654-4a16d1551213"
   },
   "outputs": [],
   "source": [
    "r = np.log((p/p.sum()) / (q/q.sum()))  # log-likelihood\n",
    "b = np.log(p.sum()/(q.sum()+p.sum()))  # log-prior\n",
    "\n"
   ]
  },
  {
   "cell_type": "code",
   "execution_count": 46,
   "metadata": {},
   "outputs": [
    {
     "name": "stdout",
     "output_type": "stream",
     "text": [
      "(1, 47547)\n",
      "(1, 47547)\n"
     ]
    }
   ],
   "source": [
    "print(p.shape)\n",
    "print(q.shape)"
   ]
  },
  {
   "cell_type": "code",
   "execution_count": 37,
   "metadata": {
    "colab": {
     "autoexec": {
      "startup": false,
      "wait_interval": 0
     },
     "base_uri": "https://localhost:8080/",
     "height": 34
    },
    "colab_type": "code",
    "executionInfo": {
     "elapsed": 594,
     "status": "ok",
     "timestamp": 1529342200671,
     "user": {
      "displayName": "Eunji Jun",
      "photoUrl": "//lh3.googleusercontent.com/-NAApMaOBXJo/AAAAAAAAAAI/AAAAAAAAEhM/_uKtqLTEd78/s50-c-k-no/photo.jpg",
      "userId": "101707959171128419571"
     },
     "user_tz": -540
    },
    "id": "27RJVnMxu_Xu",
    "outputId": "9a50cc01-1501-48bd-d1b6-a3a0dfc8b969"
   },
   "outputs": [
    {
     "data": {
      "text/plain": [
       "0.9035259549461312"
      ]
     },
     "execution_count": 37,
     "metadata": {},
     "output_type": "execute_result"
    }
   ],
   "source": [
    "pre_preds = tf_test * r.T + b\n",
    "preds = pre_preds.T > 0\n",
    "acc = (preds==y_test).mean()\n",
    "\n",
    "acc"
   ]
  },
  {
   "cell_type": "code",
   "execution_count": 38,
   "metadata": {
    "colab": {
     "autoexec": {
      "startup": false,
      "wait_interval": 0
     },
     "base_uri": "https://localhost:8080/",
     "height": 34
    },
    "colab_type": "code",
    "executionInfo": {
     "elapsed": 3949,
     "status": "ok",
     "timestamp": 1529341843898,
     "user": {
      "displayName": "Eunji Jun",
      "photoUrl": "//lh3.googleusercontent.com/-NAApMaOBXJo/AAAAAAAAAAI/AAAAAAAAEhM/_uKtqLTEd78/s50-c-k-no/photo.jpg",
      "userId": "101707959171128419571"
     },
     "user_tz": -540
    },
    "id": "4_dXSIDZq4R9",
    "outputId": "f5888b56-d408-4b6b-8c27-45f15824a199"
   },
   "outputs": [
    {
     "data": {
      "text/plain": [
       "0.9255631733594515"
      ]
     },
     "execution_count": 38,
     "metadata": {},
     "output_type": "execute_result"
    }
   ],
   "source": [
    "model = LogisticRegression(C=0.2, dual=True)\n",
    "model.fit(tf_train, y_train)\n",
    "preds = model.predict(tf_test)\n",
    "acc = (preds==y_test).mean()\n",
    "acc"
   ]
  },
  {
   "cell_type": "code",
   "execution_count": 39,
   "metadata": {
    "colab": {
     "autoexec": {
      "startup": false,
      "wait_interval": 0
     },
     "base_uri": "https://localhost:8080/",
     "height": 184
    },
    "colab_type": "code",
    "executionInfo": {
     "elapsed": 459,
     "status": "error",
     "timestamp": 1529341854504,
     "user": {
      "displayName": "Eunji Jun",
      "photoUrl": "//lh3.googleusercontent.com/-NAApMaOBXJo/AAAAAAAAAAI/AAAAAAAAEhM/_uKtqLTEd78/s50-c-k-no/photo.jpg",
      "userId": "101707959171128419571"
     },
     "user_tz": -540
    },
    "id": "R5YuVaOUwaHt",
    "outputId": "ab32ad4a-566e-4338-d519-45802e1ef134"
   },
   "outputs": [
    {
     "data": {
      "image/png": "[encoded data removed]",
      "text/plain": [
       "<Figure size 576x576 with 2 Axes>"
      ]
     },
     "metadata": {},
     "output_type": "display_data"
    }
   ],
   "source": [
    "plot_confusion_matrix(confusion_matrix(y_test, preds.T), classes=['Negative', 'Positive'], title='Confusion matrix')"
   ]
  },
  {
   "cell_type": "code",
   "execution_count": 40,
   "metadata": {
    "colab": {
     "autoexec": {
      "startup": false,
      "wait_interval": 0
     }
    },
    "colab_type": "code",
    "id": "EGzFC0Hpwb0H"
   },
   "outputs": [],
   "source": [
    "coef_df = pd.DataFrame({'vocab': vocab, 'coef':model.coef_.reshape(-1)})\n",
    "pos_top10 = coef_df.sort_values('coef', ascending=False).reset_index(drop=True)[:10]\n",
    "neg_top10 = coef_df.sort_values('coef').reset_index(drop=True)[:10]"
   ]
  },
  {
   "cell_type": "code",
   "execution_count": 41,
   "metadata": {},
   "outputs": [
    {
     "data": {
      "text/plain": [
       "(1, 47547)"
      ]
     },
     "execution_count": 41,
     "metadata": {},
     "output_type": "execute_result"
    }
   ],
   "source": [
    "model.coef_.shape"
   ]
  },
  {
   "cell_type": "code",
   "execution_count": 42,
   "metadata": {
    "colab": {
     "autoexec": {
      "startup": false,
      "wait_interval": 0
     },
     "base_uri": "https://localhost:8080/",
     "height": 498
    },
    "colab_type": "code",
    "executionInfo": {
     "elapsed": 877,
     "status": "ok",
     "timestamp": 1529341955126,
     "user": {
      "displayName": "Eunji Jun",
      "photoUrl": "//lh3.googleusercontent.com/-NAApMaOBXJo/AAAAAAAAAAI/AAAAAAAAEhM/_uKtqLTEd78/s50-c-k-no/photo.jpg",
      "userId": "101707959171128419571"
     },
     "user_tz": -540
    },
    "id": "PeHYvN-o2xbK",
    "outputId": "cd1adfc0-857e-43b6-eb4a-2359bab53258"
   },
   "outputs": [
    {
     "data": {
      "image/png": "[encoded data removed]",
      "text/plain": [
       "<Figure size 576x576 with 2 Axes>"
      ]
     },
     "metadata": {},
     "output_type": "display_data"
    }
   ],
   "source": [
    "fig, axs = plt.subplots(1, 2, figsize=(8, 8))\n",
    "fig.subplots_adjust(wspace=0.8)\n",
    "pos_top10.sort_values('coef').plot.barh(legend=False, ax=axs[0])\n",
    "axs[0].set_yticklabels(pos_top10['vocab'].values.tolist()[::-1])\n",
    "axs[0].set_title('Positive');\n",
    "neg_top10.sort_values('coef', ascending=False).plot.barh(legend=False, ax=axs[1])\n",
    "axs[1].set_yticklabels(neg_top10['vocab'].values.tolist()[::-1])\n",
    "axs[1].set_title('Negative');"
   ]
  },
  {
   "cell_type": "code",
   "execution_count": null,
   "metadata": {
    "colab": {
     "autoexec": {
      "startup": false,
      "wait_interval": 0
     }
    },
    "colab_type": "code",
    "id": "3VwsDeCY4Q65"
   },
   "outputs": [],
   "source": []
  }
 ],
 "metadata": {
  "colab": {
   "collapsed_sections": [],
   "default_view": {},
   "name": "[Week3]NaiveBayes_for_SentimentAnalysis.ipynb",
   "provenance": [],
   "version": "0.3.2",
   "views": {}
  },
  "kernelspec": {
   "display_name": "Python 3",
   "language": "python",
   "name": "python3"
  },
  "language_info": {
   "codemirror_mode": {
    "name": "ipython",
    "version": 3
   },
   "file_extension": ".py",
   "mimetype": "text/x-python",
   "name": "python",
   "nbconvert_exporter": "python",
   "pygments_lexer": "ipython3",
   "version": "3.6.5"
  }
 },
 "nbformat": 4,
 "nbformat_minor": 1
}
